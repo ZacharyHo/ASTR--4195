{
 "cells": [
  {
   "cell_type": "code",
   "execution_count": 1,
   "metadata": {},
   "outputs": [
    {
     "name": "stdout",
     "output_type": "stream",
     "text": [
      "ColDefs(\n",
      "    name = 'ENERG_LO'; format = '1E'; unit = 'keV'\n",
      "    name = 'ENERG_HI'; format = '1E'; unit = 'keV'\n",
      "    name = 'N_GRP'; format = '1I'\n",
      "    name = 'F_CHAN'; format = 'PI(1)'\n",
      "    name = 'N_CHAN'; format = 'PI(1)'\n",
      "    name = 'MATRIX'; format = 'PE(128)'; unit = 'cm**2'\n",
      ")\n"
     ]
    }
   ],
   "source": [
    "import os\n",
    "import numpy as np\n",
    "from astropy.io import fits\n",
    "import matplotlib.pyplot as plt\n",
    "import matplotlib.ticker as ticker\n",
    "import seaborn as sns\n",
    "plt.style.use('seaborn-white')\n",
    "import plotly.plotly as py\n",
    "import plotly.graph_objs as go\n",
    "import pandas as pd\n",
    "import seaborn as sns\n",
    "import cufflinks as cf\n",
    "from bokeh.plotting import figure, show, output_file\n",
    "directory = '/Users/zach//GRB160625B.945_LAT-trigger_correlated-optical-polarized-emission/'\n",
    "file_n5 = 'glg_cspec_n5_bn160625945_v01.rsp'\n",
    "#file_n7 = 'glg_tte_n7_bn160625945_v00.fit'\n",
    "#file_b1 = 'glg_tte_b1_bn160625945_v00.fit'\n",
    "\n",
    "# HDU: Header Data Unit\n",
    "hdu_n5 = fits.open(directory + file_n5)\n",
    "#hdu_n7 = fits.open(directory + file_n7)\n",
    "\n",
    "\n",
    "# print(hdu_n5.info())\n",
    "#print(repr(hdu_n5['SPECRESP MATRIX'].header))\n",
    "print(hdu_n5['SPECRESP MATRIX'].columns)\n",
    "#print(hdu_n5['EBOUNDS'].columns)\n",
    "#print(hdu_n2['SPECRESP MATRIX'].data)"
   ]
  },
  {
   "cell_type": "code",
   "execution_count": 2,
   "metadata": {},
   "outputs": [],
   "source": [
    "# rmf file\n",
    "ENERG_LO= hdu_n5['SPECRESP MATRIX'].data['ENERG_LO']\n",
    "ENERG_HI= hdu_n5['SPECRESP MATRIX'].data['ENERG_HI']\n",
    "N_GRP= hdu_n5['SPECRESP MATRIX'].data['N_GRP']\n",
    "F_CHAN= hdu_n5['SPECRESP MATRIX'].data['F_CHAN']\n",
    "MATRIX= hdu_n5['SPECRESP MATRIX'].data['MATRIX']\n",
    "# arf file \n",
    "E_MIN= hdu_n5['EBOUNDS'].data['E_MIN']\n",
    "E_MAX= hdu_n5['EBOUNDS'].data['E_MAX']\n",
    "CHANNEL=hdu_n5['EBOUNDS'].data['CHANNEL']\n"
   ]
  },
  {
   "cell_type": "code",
   "execution_count": 79,
   "metadata": {},
   "outputs": [],
   "source": [
    "EnergyArray=ENERG_LO\n",
    "#EnergyArray= np.append(x_range,50000)"
   ]
  },
  {
   "cell_type": "code",
   "execution_count": 4,
   "metadata": {},
   "outputs": [],
   "source": [
    "def myfunc(param,x):\n",
    "    y = param[0]*(x**param[1])\n",
    "    return np.array(y,dtype='float64')\n",
    "\n",
    "Power_law_coeff=[1,-0.1]"
   ]
  },
  {
   "cell_type": "code",
   "execution_count": 5,
   "metadata": {},
   "outputs": [],
   "source": [
    "NbPhoton_Sim= myfunc(Power_law_coeff,EnergyArray)"
   ]
  },
  {
   "cell_type": "code",
   "execution_count": 6,
   "metadata": {},
   "outputs": [
    {
     "data": {
      "image/png": "[encoded data removed]",
      "text/plain": [
       "<matplotlib.figure.Figure at 0x1a0ca05cf8>"
      ]
     },
     "metadata": {},
     "output_type": "display_data"
    }
   ],
   "source": [
    "plt.plot(EnergyArray,NbPhoton_Sim)\n",
    "plt.ylabel('Flux of Photon( Ph s^-1 cm^-2 keV ^-1')\n",
    "plt.xlabel('Energy (keV)')\n",
    "plt.show()"
   ]
  },
  {
   "cell_type": "code",
   "execution_count": 7,
   "metadata": {},
   "outputs": [],
   "source": [
    "df=pd.DataFrame(EnergyArray,columns=['EnergyArray'])\n",
    "df['NbPhoton_Sim']=NbPhoton_Sim\n"
   ]
  },
  {
   "cell_type": "code",
   "execution_count": 8,
   "metadata": {},
   "outputs": [
    {
     "data": {
      "image/png": "[encoded data removed]",
      "text/plain": [
       "<matplotlib.figure.Figure at 0x103f3a438>"
      ]
     },
     "metadata": {},
     "output_type": "display_data"
    }
   ],
   "source": [
    "ax = sns.barplot(x=\"EnergyArray\", y=\"NbPhoton_Sim\", data=df)\n",
    "ax.set(xlabel='Energy (keV)', ylabel='Flux of Photon( Ph s^-1 cm^-2 keV ^-1')\n",
    "#ax.xaxis.set_major_locator(ticker.MultipleLocator(20))\n",
    "x_pos_list = np.array([0,35,70,105,139])\n",
    "x_value_list = ('5', '50', '500', '5000','50000')\n",
    "ax.xaxis.set_major_locator(ticker.FixedLocator((x_pos_list)))\n",
    "ax.xaxis.set_major_formatter(ticker.FixedFormatter((x_value_list)))\n",
    "plt.show()"
   ]
  },
  {
   "cell_type": "code",
   "execution_count": 9,
   "metadata": {},
   "outputs": [],
   "source": [
    "# to gert the avg value of range between E1 and E2. \n",
    "#EnergyArray_for_bar_list=[]\n",
    "#for i in range(len(EnergyArray)):\n",
    "    #if i<len(EnergyArray)-1:\n",
    "        #EnergyArray_for_bar=(myfunc(Power_law_coeff,EnergyArray[i+1])+myfunc(Power_law_coeff,EnergyArray[i]))/2\n",
    "        #EnergyArray_for_bar_list.append(EnergyArray_for_bar) "
   ]
  },
  {
   "cell_type": "code",
   "execution_count": 12,
   "metadata": {},
   "outputs": [],
   "source": [
    "matrix= np.zeros(shape=(140,128))\n",
    "for i in range(len(MATRIX)):\n",
    "    if MATRIX[i][0]==0:\n",
    "        matrix[i]=[0]*128\n",
    "    else:\n",
    "        matrix[i]=MATRIX[i]\n",
    "    # normalization\n",
    "#for i in range(len(matrix)):\n",
    "        #if matrix[i][0]!=0:\n",
    "            #matrix[i] = matrix[i]/sum(matrix[i])\n",
    "#print(matrix)\n",
    "matrix_trans=matrix.transpose()"
   ]
  },
  {
   "cell_type": "code",
   "execution_count": null,
   "metadata": {},
   "outputs": [],
   "source": []
  },
  {
   "cell_type": "code",
   "execution_count": null,
   "metadata": {},
   "outputs": [],
   "source": []
  },
  {
   "cell_type": "code",
   "execution_count": 78,
   "metadata": {},
   "outputs": [],
   "source": [
    "# Find the solution within the linear system. Or doesn't need this. \n",
    "#a = matrix\n",
    "#b = NbPhoton_Sim\n",
    "#x = np.linalg.solve(a, b)"
   ]
  },
  {
   "cell_type": "code",
   "execution_count": null,
   "metadata": {},
   "outputs": [],
   "source": []
  },
  {
   "cell_type": "code",
   "execution_count": 80,
   "metadata": {
    "scrolled": true
   },
   "outputs": [
    {
     "data": {
      "image/png": "[encoded data removed]",
      "text/plain": [
       "<matplotlib.figure.Figure at 0x1a1504f748>"
      ]
     },
     "metadata": {},
     "output_type": "display_data"
    }
   ],
   "source": [
    "a = NbPhoton_Sim\n",
    "b = matrix\n",
    "Channel=np.dot(a, b)\n",
    "plt.plot(Channel)\n",
    "plt.ylabel('Counts')\n",
    "plt.xlabel('Energy Channel')\n",
    "plt.show()"
   ]
  },
  {
   "cell_type": "code",
   "execution_count": null,
   "metadata": {},
   "outputs": [],
   "source": [
    "\n"
   ]
  }
 ],
 "metadata": {
  "kernelspec": {
   "display_name": "Python 3",
   "language": "python",
   "name": "python3"
  },
  "language_info": {
   "codemirror_mode": {
    "name": "ipython",
    "version": 3
   },
   "file_extension": ".py",
   "mimetype": "text/x-python",
   "name": "python",
   "nbconvert_exporter": "python",
   "pygments_lexer": "ipython3",
   "version": "3.6.3"
  }
 },
 "nbformat": 4,
 "nbformat_minor": 2
}
