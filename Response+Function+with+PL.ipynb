{
 "cells": [
  {
   "cell_type": "code",
   "execution_count": 2,
   "metadata": {
    "collapsed": true
   },
   "outputs": [
    {
     "name": "stdout",
     "output_type": "stream",
     "text": [
      "ColDefs(\n    name = 'ENERG_LO'; format = '1E'; unit = 'keV'\n    name = 'ENERG_HI'; format = '1E'; unit = 'keV'\n    name = 'N_GRP'; format = '1I'\n    name = 'F_CHAN'; format = 'PI(1)'\n    name = 'N_CHAN'; format = 'PI(1)'\n    name = 'MATRIX'; format = 'PE(128)'; unit = 'cm**2'\n)\n"
     ]
    }
   ],
   "source": [
    "import numpy as np\n",
    "from astropy.io import fits\n",
    "import matplotlib.pyplot as plt\n",
    "import matplotlib.ticker as ticker\n",
    "plt.style.use('seaborn-white')\n",
    "import pandas as pd\n",
    "import seaborn as sns\n",
    "from bokeh.plotting import figure\n",
    "\n",
    "# directory = '/Users/zach//GRB160625B.945_LAT-trigger_correlated-optical-polarized-emission/'\n",
    "directory = '/home/jeff/GRB160625B.945_LAT-trigger_correlated-optical-polarized-emission/'\n",
    "file_n5 = 'glg_cspec_n5_bn160625945_v01.rsp'\n",
    "#file_n7 = 'glg_tte_n7_bn160625945_v00.fit'\n",
    "#file_b1 = 'glg_tte_b1_bn160625945_v00.fit'\n",
    "\n",
    "# HDU: Header Data Unit\n",
    "hdu_n5 = fits.open(directory + file_n5)\n",
    "\n",
    "#hdu_n7 = fits.open(directory + file_n7)\n",
    "\n",
    "\n",
    "# print(hdu_n5.info())\n",
    "#print(repr(hdu_n5['SPECRESP MATRIX'].header))\n",
    "print(hdu_n5['SPECRESP MATRIX'].columns)\n",
    "#print(hdu_n5['EBOUNDS'].columns)\n",
    "#print(hdu_n2['SPECRESP MATRIX'].data)"
   ]
  },
  {
   "cell_type": "code",
   "execution_count": 40,
   "metadata": {},
   "outputs": [],
   "source": [
    "# rmf file\n",
    "ENERG_LO= hdu_n5['SPECRESP MATRIX'].data['ENERG_LO']\n",
    "ENERG_HI= hdu_n5['SPECRESP MATRIX'].data['ENERG_HI']\n",
    "N_GRP= hdu_n5['SPECRESP MATRIX'].data['N_GRP']\n",
    "F_CHAN= hdu_n5['SPECRESP MATRIX'].data['F_CHAN']\n",
    "\n",
    "MATRIX= hdu_n5['SPECRESP MATRIX'].data['MATRIX']\n",
    "# arf file \n",
    "E_MIN= hdu_n5['EBOUNDS'].data['E_MIN']\n",
    "E_MAX= hdu_n5['EBOUNDS'].data['E_MAX']\n",
    "CHANNEL=hdu_n5['EBOUNDS'].data['CHANNEL']\n"
   ]
  },
  {
   "cell_type": "code",
   "execution_count": 41,
   "metadata": {},
   "outputs": [],
   "source": [
    "def power_law(param,x):\n",
    "    y = param[0]*(x**param[1])\n",
    "    return np.array(y,dtype='float64')\n"
   ]
  },
  {
   "cell_type": "code",
   "execution_count": 42,
   "metadata": {},
   "outputs": [],
   "source": [
    "ENERGY_ARRAY=np.append(ENERG_LO, ENERG_HI[139])\n",
    "POWER_LAW_COEFFICIENT=[1,-0.1]"
   ]
  },
  {
   "cell_type": "code",
   "execution_count": 43,
   "metadata": {},
   "outputs": [],
   "source": [
    "NbPhoton_Sim= power_law(POWER_LAW_COEFFICIENT,ENERGY_ARRAY)"
   ]
  },
  {
   "cell_type": "code",
   "execution_count": 31,
   "metadata": {},
   "outputs": [
    {
     "data": {
      "image/png": "[encoded data removed]",
      "text/plain": [
       "<matplotlib.figure.Figure at 0x7f615ba845f8>"
      ]
     },
     "metadata": {},
     "output_type": "display_data"
    }
   ],
   "source": [
    "plt.plot(ENERGY_ARRAY,NbPhoton_Sim)\n",
    "plt.ylabel('Flux of Photon( Ph s^-1 cm^-2 keV ^-1')\n",
    "plt.xlabel('Energy (keV)')\n",
    "plt.show()"
   ]
  },
  {
   "cell_type": "code",
   "execution_count": 32,
   "metadata": {},
   "outputs": [],
   "source": [
    "df=pd.DataFrame(ENERGY_ARRAY,columns=['EnergyArray'])\n",
    "df['NbPhoton_Sim']=NbPhoton_Sim"
   ]
  },
  {
   "cell_type": "code",
   "execution_count": 33,
   "metadata": {},
   "outputs": [
    {
     "data": {
      "image/png": "[encoded data removed]",
      "text/plain": [
       "<matplotlib.figure.Figure at 0x7f615bb2e860>"
      ]
     },
     "metadata": {},
     "output_type": "display_data"
    }
   ],
   "source": [
    "ax = sns.barplot(x=\"EnergyArray\", y=\"NbPhoton_Sim\", data=df)\n",
    "ax.set(xlabel='Energy (keV)', ylabel='Flux of Photon( Ph s^-1 cm^-2 keV ^-1')\n",
    "#ax.xaxis.set_major_locator(ticker.MultipleLocator(20))\n",
    "x_pos_list = np.array([0,35,70,105,139])\n",
    "x_value_list = ('5', '50', '500', '5000','50000')\n",
    "ax.xaxis.set_major_locator(ticker.FixedLocator((x_pos_list)))\n",
    "ax.xaxis.set_major_formatter(ticker.FixedFormatter((x_value_list)))\n",
    "plt.show()"
   ]
  },
  {
   "cell_type": "code",
   "execution_count": 9,
   "metadata": {},
   "outputs": [],
   "source": [
    "# to gert the avg value of range between E1 and E2. \n",
    "#EnergyArray_for_bar_list=[]\n",
    "#for i in range(len(EnergyArray)):\n",
    "    #if i<len(EnergyArray)-1:\n",
    "        #EnergyArray_for_bar=(myfunc(Power_law_coeff,EnergyArray[i+1])+myfunc(Power_law_coeff,EnergyArray[i]))/2\n",
    "        #EnergyArray_for_bar_list.append(EnergyArray_for_bar) "
   ]
  },
  {
   "cell_type": "code",
   "execution_count": 55,
   "metadata": {},
   "outputs": [],
   "source": [
    "# Area\n",
    "t = np.append(NbPhoton_Sim[0], NbPhoton_Sim[1]) \n",
    "s = np.zeros(140)\n",
    "for i, _ in enumerate(NbPhoton_Sim):\n",
    "    if i == (len(NbPhoton_Sim) - 1):\n",
    "        break\n",
    "    elem = np.append(NbPhoton_Sim[i], NbPhoton_Sim[i+1])\n",
    "    s[i] = np.trapz(t, dx=2)\n"
   ]
  },
  {
   "cell_type": "code",
   "execution_count": 56,
   "metadata": {},
   "outputs": [],
   "source": [
    "matrix= np.zeros(shape=(140,128))\n",
    "for i in range(len(MATRIX)):\n",
    "    if MATRIX[i][0]==0:\n",
    "        matrix[i]=[0]*128\n",
    "    else:\n",
    "        matrix[i]=MATRIX[i]\n",
    "    # normalization\n",
    "#for i in range(len(matrix)):\n",
    "        #if matrix[i][0]!=0:\n",
    "            #matrix[i] = matrix[i]/sum(matrix[i])\n",
    "#print(matrix)\n",
    "matrix_trans=matrix.transpose()"
   ]
  },
  {
   "cell_type": "code",
   "execution_count": 78,
   "metadata": {},
   "outputs": [],
   "source": [
    "# Find the solution within the linear system. Or doesn't need this. \n",
    "#a = matrix\n",
    "#b = NbPhoton_Sim\n",
    "#x = np.linalg.solve(a, b)"
   ]
  },
  {
   "cell_type": "code",
   "execution_count": 50,
   "metadata": {
    "scrolled": true
   },
   "outputs": [
    {
     "ename": "ValueError",
     "evalue": "shapes (141,) and (140,128) not aligned: 141 (dim 0) != 140 (dim 0)",
     "traceback": [
      "\u001b[0;31m---------------------------------------------------------------------------\u001b[0m",
      "\u001b[0;31mValueError\u001b[0m                                Traceback (most recent call last)",
      "\u001b[0;32m<ipython-input-50-a00ded7b112d>\u001b[0m in \u001b[0;36m<module>\u001b[0;34m()\u001b[0m\n\u001b[1;32m      1\u001b[0m \u001b[0ma\u001b[0m \u001b[0;34m=\u001b[0m \u001b[0mNbPhoton_Sim\u001b[0m\u001b[0;34m\u001b[0m\u001b[0m\n\u001b[1;32m      2\u001b[0m \u001b[0mb\u001b[0m \u001b[0;34m=\u001b[0m \u001b[0mmatrix\u001b[0m\u001b[0;34m\u001b[0m\u001b[0m\n\u001b[0;32m----> 3\u001b[0;31m \u001b[0mChannel\u001b[0m\u001b[0;34m=\u001b[0m\u001b[0mnp\u001b[0m\u001b[0;34m.\u001b[0m\u001b[0mdot\u001b[0m\u001b[0;34m(\u001b[0m\u001b[0ma\u001b[0m\u001b[0;34m,\u001b[0m \u001b[0mb\u001b[0m\u001b[0;34m)\u001b[0m\u001b[0;34m\u001b[0m\u001b[0m\n\u001b[0m\u001b[1;32m      4\u001b[0m \u001b[0mplt\u001b[0m\u001b[0;34m.\u001b[0m\u001b[0mplot\u001b[0m\u001b[0;34m(\u001b[0m\u001b[0mChannel\u001b[0m\u001b[0;34m)\u001b[0m\u001b[0;34m\u001b[0m\u001b[0m\n\u001b[1;32m      5\u001b[0m \u001b[0mplt\u001b[0m\u001b[0;34m.\u001b[0m\u001b[0mylabel\u001b[0m\u001b[0;34m(\u001b[0m\u001b[0;34m'Counts'\u001b[0m\u001b[0;34m)\u001b[0m\u001b[0;34m\u001b[0m\u001b[0m\n",
      "\u001b[0;31mValueError\u001b[0m: shapes (141,) and (140,128) not aligned: 141 (dim 0) != 140 (dim 0)"
     ],
     "output_type": "error"
    }
   ],
   "source": [
    "a = NbPhoton_Sim\n",
    "b = matrix\n",
    "Channel=np.dot(a, b)\n",
    "plt.plot(Channel)\n",
    "plt.ylabel('Counts')\n",
    "plt.xlabel('Energy Channel')\n",
    "plt.show()"
   ]
  },
  {
   "cell_type": "code",
   "execution_count": null,
   "metadata": {},
   "outputs": [],
   "source": [
    "\n"
   ]
  }
 ],
 "metadata": {
  "kernelspec": {
   "display_name": "Python 3",
   "language": "python",
   "name": "python3"
  },
  "language_info": {
   "codemirror_mode": {
    "name": "ipython",
    "version": 3
   },
   "file_extension": ".py",
   "mimetype": "text/x-python",
   "name": "python",
   "nbconvert_exporter": "python",
   "pygments_lexer": "ipython3",
   "version": "3.6.3"
  }
 },
 "nbformat": 4,
 "nbformat_minor": 2
}
